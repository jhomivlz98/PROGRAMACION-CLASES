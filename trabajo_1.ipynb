{
  "nbformat": 4,
  "nbformat_minor": 0,
  "metadata": {
    "colab": {
      "name": "trabajo 1",
      "provenance": [],
      "collapsed_sections": [],
      "include_colab_link": true
    },
    "kernelspec": {
      "name": "python3",
      "display_name": "Python 3"
    }
  },
  "cells": [
    {
      "cell_type": "markdown",
      "metadata": {
        "id": "view-in-github",
        "colab_type": "text"
      },
      "source": [
        "<a href=\"https://colab.research.google.com/github/jhomivlz98/Programaci-n-1/blob/master/trabajo_1.ipynb\" target=\"_parent\"><img src=\"https://colab.research.google.com/assets/colab-badge.svg\" alt=\"Open In Colab\"/></a>"
      ]
    },
    {
      "cell_type": "code",
      "metadata": {
        "id": "alip9t5NKQQ-",
        "colab_type": "code",
        "outputId": "32276255-e10b-41bf-a4a0-0f0629959b2e",
        "colab": {
          "base_uri": "https://localhost:8080/",
          "height": 34
        }
      },
      "source": [
        "#ejercicio 1\n",
        "a = (2**3 + 10/5)/15\n",
        "print(a)\n"
      ],
      "execution_count": 0,
      "outputs": [
        {
          "output_type": "stream",
          "text": [
            "0.6666666666666666\n"
          ],
          "name": "stdout"
        }
      ]
    },
    {
      "cell_type": "code",
      "metadata": {
        "id": "_bLq2Xm3LjNC",
        "colab_type": "code",
        "colab": {}
      },
      "source": [
        "#ejercicio 2\n",
        "#Revertir la palabra 'Hello world'.\n",
        "lista1 = [\"hello\"] \n",
        "lista2 = [\"world\"]\n",
        "lista = lista1 + lista2\n",
        "\n"
      ],
      "execution_count": 0,
      "outputs": []
    },
    {
      "cell_type": "code",
      "metadata": {
        "id": "p4A2ujRJNAFJ",
        "colab_type": "code",
        "colab": {}
      },
      "source": [
        "#Cree la siguiente lista [0,0,0] de 2 formas distintas.\n",
        "lista = []\n",
        "[ i*0 for i in range(3)]\n",
        "lista.append(i)"
      ],
      "execution_count": 0,
      "outputs": []
    },
    {
      "cell_type": "code",
      "metadata": {
        "id": "Gnx5wxs7RaaV",
        "colab_type": "code",
        "colab": {}
      },
      "source": [
        "3*[0]= [0,0,0]"
      ],
      "execution_count": 0,
      "outputs": []
    },
    {
      "cell_type": "code",
      "metadata": {
        "id": "km3dwRRBRwbf",
        "colab_type": "code",
        "colab": {}
      },
      "source": [
        "#Cambie la palabra 'hello' por 'goodbye'\n",
        "lista = [1, 2, [3, 4, ('hello')]]\n",
        "lista[2][2]\n",
        "lista[2][2] = \"goodbye\"\n",
        "lista"
      ],
      "execution_count": 0,
      "outputs": []
    },
    {
      "cell_type": "code",
      "metadata": {
        "id": "ijWg7ONoTfbm",
        "colab_type": "code",
        "colab": {}
      },
      "source": [
        "#Obtenga la palabra 'hello' de los siguiente ejemplos\n",
        "d1 = {'simple_key':'hello'}\n",
        "d2 = {'k1':{'k2':'hello'}}\n",
        "estacion = {\n",
        "    \"cate\": \"CO\",\n",
        "    \"cod\": \"105062\",\n",
        "    \"cod_old\": \"000349\",\n",
        "    \"estado\": \"DIFERIDO\",\n",
        "    \"ico\": \"M\",\n",
        "    \"lat\": -5.67175,\n",
        "    \"lon\": -78.89767,\n",
        "    \"nom\": \"hello\"\n",
        "}\n",
        "d1['simple_key']\n",
        "d2['k1']['k2']\n",
        "estacion[\"nom\"]\n"
      ],
      "execution_count": 0,
      "outputs": []
    },
    {
      "cell_type": "code",
      "metadata": {
        "id": "2PijFGg3VUiv",
        "colab_type": "code",
        "colab": {}
      },
      "source": [
        "#¿Cuantos números por encima de 20 existen en la siguiente lista. Resuelvalo usando \n",
        "lista = [10, 40, 60, 70, 80]\n",
        "lista1 = []\n",
        "for i in lista:\n",
        "    if i >20:\n",
        "      print(\"esta por encima de 20\")\n",
        "      lista1.append(i)\n",
        "    else:\n",
        "      print(\"esta por debajo de 20\")\n",
        "len(lista1)\n",
        "\n",
        "      "
      ],
      "execution_count": 0,
      "outputs": []
    },
    {
      "cell_type": "code",
      "metadata": {
        "id": "k_KXJa07X9jM",
        "colab_type": "code",
        "colab": {}
      },
      "source": [
        "#Crear un programa que mencione si un número es positivo, negativo o cero.\n",
        "num = [0, -2, 4, 5, 6]\n",
        "for i in num:\n",
        "  if i>=0:\n",
        "    if i>0:\n",
        "      print(\"el numero es positivo\")\n",
        "    else:\n",
        "      print(\"el número es 0\")\n",
        "  else:\n",
        "    print(\"el número es negativo\")\n",
        "    "
      ],
      "execution_count": 0,
      "outputs": []
    },
    {
      "cell_type": "code",
      "metadata": {
        "id": "9UiKTNWDZtCs",
        "colab_type": "code",
        "colab": {}
      },
      "source": [
        "#Crear un programa al que se le ingrese grados Kelvin y devuelva Farenheit y Celcius.\n",
        "a= input()\n",
        "\n"
      ],
      "execution_count": 0,
      "outputs": []
    },
    {
      "cell_type": "code",
      "metadata": {
        "id": "qiyLEcDIa2uQ",
        "colab_type": "code",
        "colab": {}
      },
      "source": [
        ""
      ],
      "execution_count": 0,
      "outputs": []
    },
    {
      "cell_type": "code",
      "metadata": {
        "id": "X117AClra3LY",
        "colab_type": "code",
        "colab": {}
      },
      "source": [
        ""
      ],
      "execution_count": 0,
      "outputs": []
    }
  ]
}